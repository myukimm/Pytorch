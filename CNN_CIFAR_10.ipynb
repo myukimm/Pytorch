{
  "nbformat": 4,
  "nbformat_minor": 0,
  "metadata": {
    "colab": {
      "provenance": []
    },
    "kernelspec": {
      "name": "python3",
      "display_name": "Python 3"
    },
    "language_info": {
      "name": "python"
    }
  },
  "cells": [
    {
      "cell_type": "markdown",
      "source": [
        "# CNN : CIFAR-10"
      ],
      "metadata": {
        "id": "PUhKMUf21VT4"
      }
    },
    {
      "cell_type": "markdown",
      "source": [
        "### 환경 설정"
      ],
      "metadata": {
        "id": "w1H678vK1YLF"
      }
    },
    {
      "cell_type": "code",
      "execution_count": 12,
      "metadata": {
        "id": "e5FuCYebz9Ly"
      },
      "outputs": [],
      "source": [
        "import numpy as np\n",
        "import matplotlib.pyplot as plt\n",
        "\n",
        "import torch\n",
        "import torch.nn as nn\n",
        "import torch.nn.functional as F\n",
        "from torchvision import transforms, datasets"
      ]
    },
    {
      "cell_type": "code",
      "source": [
        "# 딥러닝 모델 설계할 때 활용하는 장비 확인 \n",
        "if torch.cuda.is_available():\n",
        "  DEVICE = torch.device('cuda')\n",
        "else :\n",
        "  DEVICE = torch.device('cpu')\n",
        "\n",
        "print(DEVICE)"
      ],
      "metadata": {
        "colab": {
          "base_uri": "https://localhost:8080/"
        },
        "id": "bt7RJSLb0kGY",
        "outputId": "80200d76-2a6f-4410-fa90-4be9b5b57471"
      },
      "execution_count": 2,
      "outputs": [
        {
          "output_type": "stream",
          "name": "stdout",
          "text": [
            "cpu\n"
          ]
        }
      ]
    },
    {
      "cell_type": "code",
      "source": [
        "BATCH_SIZE = 32\n",
        "EPOCHS = 10"
      ],
      "metadata": {
        "id": "EjQf6ZCW1aqG"
      },
      "execution_count": 17,
      "outputs": []
    },
    {
      "cell_type": "markdown",
      "source": [
        "### 데이터"
      ],
      "metadata": {
        "id": "iAbakY9j1iAV"
      }
    },
    {
      "cell_type": "code",
      "source": [
        "train_dataset = datasets.CIFAR10(root = '/content/data/CIFAR-10',\n",
        "                                  train = True,\n",
        "                                  download = True,\n",
        "                                  transform = transforms.ToTensor())\n",
        "test_dataset = datasets.CIFAR10(root = '/content/data/CIFAR-10',\n",
        "                                  train = False,\n",
        "                                  transform = transforms.ToTensor())\n",
        "train_loader = torch.utils.data.DataLoader(dataset = train_dataset,\n",
        "                                           batch_size = BATCH_SIZE,\n",
        "                                           shuffle = True)\n",
        "test_loader = torch.utils.data.DataLoader(dataset = test_dataset,\n",
        "                                           batch_size = BATCH_SIZE,\n",
        "                                           shuffle = False)"
      ],
      "metadata": {
        "colab": {
          "base_uri": "https://localhost:8080/"
        },
        "id": "njrS5KHc1hLY",
        "outputId": "c048fef4-7ed0-43e3-c972-f9d9c1bcd99f"
      },
      "execution_count": 18,
      "outputs": [
        {
          "output_type": "stream",
          "name": "stdout",
          "text": [
            "Files already downloaded and verified\n"
          ]
        }
      ]
    },
    {
      "cell_type": "code",
      "source": [
        "# 데이터 확인하기\n",
        "for X_train, y_train in train_loader:\n",
        "  print(X_train.size(), X_train.type())\n",
        "  print(y_train.size(), y_train.type())\n",
        "  break"
      ],
      "metadata": {
        "colab": {
          "base_uri": "https://localhost:8080/"
        },
        "id": "ELoVzgKP29eX",
        "outputId": "ee9f9d90-4c3a-42d4-ae49-27ba5d73654c"
      },
      "execution_count": 20,
      "outputs": [
        {
          "output_type": "stream",
          "name": "stdout",
          "text": [
            "torch.Size([32, 3, 32, 32]) torch.FloatTensor\n",
            "torch.Size([32]) torch.LongTensor\n"
          ]
        }
      ]
    },
    {
      "cell_type": "code",
      "source": [
        "pltsize = 1\n",
        "plt.figure(figsize=(pltsize * 10, pltsize))\n",
        "for i in range(10):\n",
        "  plt.subplot(1, 10, i + 1)\n",
        "  plt.axis('off')\n",
        "  plt.imshow(np.transpose(X_train[i], (1,2,0)))\n",
        "  plt.title('Class: ' + str(y_train[i].item()))"
      ],
      "metadata": {
        "colab": {
          "base_uri": "https://localhost:8080/",
          "height": 94
        },
        "id": "q0cV5Afm3euF",
        "outputId": "c2bee583-a030-498a-b2b0-c0f8e7463510"
      },
      "execution_count": 26,
      "outputs": [
        {
          "output_type": "display_data",
          "data": {
            "text/plain": [
              "<Figure size 720x72 with 10 Axes>"
            ],
            "image/png": "[encoded data removed]"
          },
          "metadata": {
            "needs_background": "light"
          }
        }
      ]
    },
    {
      "cell_type": "markdown",
      "source": [
        "### 모델 설계"
      ],
      "metadata": {
        "id": "hcW7VRcz5OBV"
      }
    },
    {
      "cell_type": "code",
      "source": [
        "class CNN(nn.Module) :                  # 1\n",
        "  def __init__(self) :                  # 2\n",
        "    super(CNN, self).__init__()         # 3 \n",
        "    self.conv1 = nn.Conv2d(             # 4\n",
        "        in_channels = 3,                # 5\n",
        "        out_channels = 8,               # 6\n",
        "        kernel_size = 3,                # 7\n",
        "        padding = 1)                    # 8\n",
        "    self.conv2 = nn.Conv2d(             # 9\n",
        "        in_channels = 8,               # 10\n",
        "        out_channels = 16,              # 11\n",
        "        kernel_size = 3,                # 12\n",
        "        padding = 1)                    # 13\n",
        "    self.pool = nn.MaxPool2d(           # 14\n",
        "        kernel_size = 2,                # 15\n",
        "        stride = 2)                     # 16\n",
        "    self.fc1 = nn.Linear(8 * 8 * 16, 64)# 17\n",
        "    self.fc2 = nn.Linear(64, 32)        # 18   \n",
        "    self.fc3 = nn.Linear(32, 10)        # 19\n",
        "   \n",
        "  def forward(self, x):                 # 20\n",
        "    x = self.conv1(x)                   # 21\n",
        "    x = F.relu(x)                       # 22\n",
        "    x = self.pool(x)                    # 23\n",
        "    x = self.conv2(x)                   # 24\n",
        "    x = F.relu(x)                       # 25\n",
        "    x = self.pool(x)                    # 26\n",
        "\n",
        "    x = x.view(-1, 8 * 8 * 16)          # 27\n",
        "    x = self.fc1(x)                     # 28\n",
        "    x = F.relu(x)                       # 29\n",
        "    x = self.fc2(x)                     # 30\n",
        "    x = F.relu(x)                       # 31\n",
        "    x = self.fc3(x)                     # 32\n",
        "    x = F.log_softmax(x)                 # 33\n",
        "    return x                            # 34"
      ],
      "metadata": {
        "id": "7tum4Ppb5O-P"
      },
      "execution_count": 42,
      "outputs": []
    },
    {
      "cell_type": "markdown",
      "source": [
        "#### 모델 요약 보기"
      ],
      "metadata": {
        "id": "y6SIhsyjFbeN"
      }
    },
    {
      "cell_type": "code",
      "source": [
        "import torchsummary\n",
        "torchsummary.summary(model, (3, 32, 32))"
      ],
      "metadata": {
        "colab": {
          "base_uri": "https://localhost:8080/"
        },
        "id": "4J8_Q3JHCJ-o",
        "outputId": "c44fdf23-f077-4338-fe4d-693f541585cc"
      },
      "execution_count": 45,
      "outputs": [
        {
          "output_type": "stream",
          "name": "stdout",
          "text": [
            "----------------------------------------------------------------\n",
            "        Layer (type)               Output Shape         Param #\n",
            "================================================================\n",
            "            Conv2d-1            [-1, 8, 32, 32]             224\n",
            "         MaxPool2d-2            [-1, 8, 16, 16]               0\n",
            "            Conv2d-3           [-1, 16, 16, 16]           1,168\n",
            "         MaxPool2d-4             [-1, 16, 8, 8]               0\n",
            "            Linear-5                   [-1, 64]          65,600\n",
            "            Linear-6                   [-1, 32]           2,080\n",
            "            Linear-7                   [-1, 10]             330\n",
            "================================================================\n",
            "Total params: 69,402\n",
            "Trainable params: 69,402\n",
            "Non-trainable params: 0\n",
            "----------------------------------------------------------------\n",
            "Input size (MB): 0.01\n",
            "Forward/backward pass size (MB): 0.12\n",
            "Params size (MB): 0.26\n",
            "Estimated Total Size (MB): 0.39\n",
            "----------------------------------------------------------------\n"
          ]
        },
        {
          "output_type": "stream",
          "name": "stderr",
          "text": [
            "<ipython-input-42-8cf661b2cbcf>:35: UserWarning: Implicit dimension choice for log_softmax has been deprecated. Change the call to include dim=X as an argument.\n",
            "  x = F.log_softmax(x)                 # 33\n"
          ]
        }
      ]
    },
    {
      "cell_type": "markdown",
      "source": [
        "1. nn.Module 클래스를 상속 받았을 때 nn.Module 클래스가 이용할 수 있는 함수를 그대로 이용할 수 있기 때문에 새로운 딥러닝 모델을 설계할 때 자주 이용된다.\n",
        "\n",
        "2. CNN 클래스의 인스턴스를 생성했을 때 지니는 성질을 정의해주는 메서드이다.\n",
        "\n",
        "3. nn.Module 내에 있는 메서드를 상속받아 이용한다.\n",
        "\n",
        "4. 2차원의 이미지 데이터를 nn.Conv2d 메서드를 이용해 Convolution 연산을 하는 Filter를 정의한다.\n",
        "\n",
        "5. 이미지에 직접 Convolution 연산을 진행하는 Filter의 크기는 상관없지만, 채널 수를 이미지의 채널 수와 동일하게 맞춰야 한다. 동일한 위치에 있으며 앞뒤로 존재하는 red, green, blue에 픽셀에 대해 동시에 Convolution 연산을 진행하기 위해서다. 따라서 이미지의 채널 수와 동일하게 채널 수를 '3'으로 설정했다.\n",
        "\n",
        "6. Convolution 연산을 진행하는 Filter 개수를 설정한다. 여기서 설정해주는 Filter 개수만큼 Output의 depth가 정해진다. Filter 개수만큼 앞뒤로 쌓아 Feature Map을 형성하기 때문이다. 여기서는 '8개'로 설정했으므로 해당 Convolution 연산 결과는 depth가 '8인' Feature Map이 생성된다.\n",
        "\n",
        "7. Filter의 크기를 설정해주는 부분이다. 스칼라 값으로 설정하려면 해당 스칼라 값의 가로 * 세로 크기인 Filter를 이용해야 한다. 즉, 여기서는 3 \\* 3의 Filter 크기를 이용하게 된다. 3 x 3의 Filter가 이미지 위를 돌아다니면서 겹치는 영역에 대해 9개의 픽셀 값과 Filter 내에 있는 9개의 파라미터 값을 Convolution 연산으로 진행한다.\n",
        "\n",
        "8. 5,6,7을 통해 세부 속성이 설정된 Filter가 이미지 위를 돌아다닐 때 이미지의 구석 부분은 중앙 부분에 비해 상대적으로 덜 연산된다. Filter가 돌아다니면서 겹치는 영역이 구석보다 중앙 부분이 당연히 자주 겹친다. 이를 방지하기 위해 이미지의 가장자리에 0을 채워 이미지 구석 부분과 중앙 부분의 Convolution 연산되는 횟수를 동일하게 맞춰주기 위해 Zero Padding을 설정해준다.\n",
        "\n",
        "14. Convolution을 통해 Feature Map이 생성됐을 때, Feature Map을 전부 이용하는 것이 아니라 부분적으로 이용한다. Convolution을 통해 다양한 수치가 생성되기 때문이다. nn.MaxPool2d는 2차원의 Feature Map 내에서 지정한 크기 내 가장 큰 Feature Map 값만 이용하겠다는 것을 의미이다. "
      ],
      "metadata": {
        "id": "1TiyNUy68BWt"
      }
    },
    {
      "cell_type": "markdown",
      "source": [
        "### 모델 확인"
      ],
      "metadata": {
        "id": "NSgv3zsPJ-RS"
      }
    },
    {
      "cell_type": "code",
      "source": [
        "# Optimizer, Objective Function 설정하기\n",
        "model = CNN().to(DEVICE)  # 1\n",
        "optimizer = torch.optim.Adam(model.parameters(), lr = 0.001)\n",
        "criterion = nn.CrossEntropyLoss()\n",
        "print(model)"
      ],
      "metadata": {
        "colab": {
          "base_uri": "https://localhost:8080/"
        },
        "id": "C0RFIisHBTaU",
        "outputId": "409a051e-369f-4646-8ae3-c9596b2efc8e"
      },
      "execution_count": 46,
      "outputs": [
        {
          "output_type": "stream",
          "name": "stdout",
          "text": [
            "CNN(\n",
            "  (conv1): Conv2d(3, 8, kernel_size=(3, 3), stride=(1, 1), padding=(1, 1))\n",
            "  (conv2): Conv2d(8, 16, kernel_size=(3, 3), stride=(1, 1), padding=(1, 1))\n",
            "  (pool): MaxPool2d(kernel_size=2, stride=2, padding=0, dilation=1, ceil_mode=False)\n",
            "  (fc1): Linear(in_features=1024, out_features=64, bias=True)\n",
            "  (fc2): Linear(in_features=64, out_features=32, bias=True)\n",
            "  (fc3): Linear(in_features=32, out_features=10, bias=True)\n",
            ")\n"
          ]
        }
      ]
    },
    {
      "cell_type": "markdown",
      "source": [
        "1. CNN 모델을 기존에 선정한 'DEVICE'에 할당한다. 'DEVICE' 장비를 이용해 CNN 모델을 완성하기 위한 것이다."
      ],
      "metadata": {
        "id": "o4CBBgmIG0dY"
      }
    },
    {
      "cell_type": "code",
      "source": [
        "# 학습되는 과정 속에서 검증 데이터에 대한 모델 성능을 확인하는 함수 정의\n",
        "def evaluate(model, test_loader):\n",
        "  model.eval()                                                         # 1\n",
        "  test_loss = 0                                                        # 2\n",
        "  correct = 0                                                          # 3\n",
        "  with torch.no_grad():                                                # 4\n",
        "    for image, label in test_loader:                                   # 5 \n",
        "      image = image.to(DEVICE)                                         # 6\n",
        "      label = label.to(DEVICE)                                         # 7 \n",
        "      output = model(image)                                            # 8\n",
        "      test_loss += criterion(output, label).item()                     # 9\n",
        "      prediction = output.max(1, keepdim = True)[1]                    # 10\n",
        "      correct += prediction.eq(label.view_as(prediction)).sum().item() # 11\n",
        "  test_loss /= len(test_loader.dataset)                                # 12\n",
        "  test_accuracy = 100. * correct / len(test_loader.dataset)            # 13    \n",
        "  return test_loss, test_accuracy                                      # 14"
      ],
      "metadata": {
        "id": "BHPtgcCSHHNQ"
      },
      "execution_count": 53,
      "outputs": []
    },
    {
      "cell_type": "markdown",
      "source": [
        "1. 기존에 정의한 CNN 모델을 학습 상태로 지정한다.\n",
        "\n",
        "2. 기존에 정의한 train_loader에는 학습에 이용되는 이미지 데이터와 레이블 데이터가 Mini-Batch 단위로 묶여 저장돼 있다. 해당 train_loader 내에 Mini-Batch 단위로 저장된 데이터를 순서대로 이용해 CNN 모형을 학습시키겠다.\n",
        "\n",
        "3. Mini-Batch 내에 있는 이미지 데이터를 이용해 CNN 모델을 학습하기 위해 기존에 정의한 장비에 할당한다.\n",
        "\n",
        "4. Mini-Batch 내에 있는 이미지 데이터와 매칭된 레이블 데이터도 기존에 정의한 장비에 할당한다.\n",
        "\n",
        "5. 기존에 정의한 장비에 이미지 데이터와 레이블 데이터를 할당했을 때, 과거에 이용한 Mini-Batch 내에 있는 이미지 데이터와 레이블 데이터를 바탕으로 계산된 Loss의 Gradient 값이 Optimizer에 할당돼 있으므로 Optimizer의 Gradient를 초기화한다.\n",
        "\n",
        "6. 장비에 할당한 이미지 데이터를 CNN 모델의 Input으로 이용해 Output을 계산한다.\n",
        "\n",
        "7. 계산된 Output과 장비에 할당된 레이블 데이터를 기존에 정의한 Cross Entrophy를 이용해 Loss 값을 계산한다.\n",
        "\n",
        "8. Loss 값을 계산한 결과를 바탕으로 Back Propagation을 통해 계산된 Gradient 값을 각 파라미터에 할당한다.\n",
        "\n",
        "9. 각 파라미터별로 할당된 Gradient 값을 이용해 파라미터 값을 업데이트한다."
      ],
      "metadata": {
        "id": "Qk95wlHoKDqC"
      }
    },
    {
      "cell_type": "code",
      "source": [
        "\n",
        "# 학습되는 과정 속에서 검증 데이터에 대한 모델 성능을 확인하는 함수 정의\n",
        "def evaluate(model, test_loader):\n",
        "  model.eval()                                                         # 1\n",
        "  test_loss = 0                                                        # 2\n",
        "  correct = 0                                                          # 3\n",
        "  with torch.no_grad():                                                # 4\n",
        "    for image, label in test_loader:                                   # 5 \n",
        "      image = image.to(DEVICE)                                         # 6\n",
        "      label = label.to(DEVICE)                                         # 7 \n",
        "      output = model(image)                                            # 8\n",
        "      test_loss += criterion(output, label).item()                     # 9\n",
        "      prediction = output.max(1, keepdim = True)[1]                    # 10\n",
        "      correct += prediction.eq(label.view_as(prediction)).sum().item() # 11\n",
        "  test_loss /= len(test_loader.dataset)                                # 12\n",
        "  test_accuracy = 100. * correct / len(test_loader.dataset)            # 13    \n",
        "  return test_loss, test_accuracy                                      # 14"
      ],
      "metadata": {
        "id": "ztUQ2Xi7Ic5I"
      },
      "execution_count": 54,
      "outputs": []
    },
    {
      "cell_type": "markdown",
      "source": [
        "CNN 모델 학습 과정 또는 학습이 완료된 상태에서 CNN 모델의 성능을 평가하기 위해 evaluate 함수를 정의한다."
      ],
      "metadata": {
        "id": "7P-Mav33KlG_"
      }
    },
    {
      "cell_type": "markdown",
      "source": [
        "1. 학습 과정 속 또는 학습이 완료된 CNN 모델을 학습 상태가 아닌, 평가 상태로 지정한다.\n",
        "\n",
        "2. 기존에 정의한 test_loader 내에 있는 데이터를 이용해 Loss 값을 계산하기 위해 test_loss를 0으로 임시 설정한다.\n",
        "\n",
        "3. 학습 과정 속 또는 학습이 완료된 CNN 모델이 올바른 Class로 분류한 경우를 세기 위해 correct = 0으로 임시 설정한다.\n",
        "\n",
        "4. CNN 모델을 평가하는 단계에서는 Gradient를 통해 파라미터 값들이 업데이트되는 현상을 방지하기 위해 torch.no_grad() 메서드를 이용해 Gradient의 흐름을 억제한다.\n",
        "\n",
        "5. 기존에 정의한 test_loader 내에 있는 데이터 역시 train_loader와 동일하게 Mini-Batch 단위로 저장돼 있다. Mini_Batch 내에 있는 이미지 데이터와 레이블 데이터에 반복문을 이용해 차례대로 접근한다.\n",
        "\n",
        "6. Mini-Batch 내에 있는 이미지 데이터를 이용해 CNN 모델을 검증하기 위해 기존에 정의한 장비에 할당한다.\n",
        "\n",
        "7. Mini-Batch 내에 있는 이미지 데이터와 매칭된 레이블 데이터도 기존에 정의한 장비에 할당한다.\n",
        "\n",
        "8. 장비에 할당한 이미지 데이터를 CNN 모델의 Input으로 이용해 Output을 계산한다.\n",
        "\n",
        "9. 계산된 Output과 장비에 할당된 레이블 데이터를 기존에 정의한 CrossEntropy를 이용해 Loss 값을 계산한 결과값을 test_loss에 더해 업데이트한다.\n",
        "\n",
        "10. CNN 모델의 Output 값은 크기가 '10'인 벡터 값이다. 계산된 벡터 값 내의 가장 큰 값인 위치에 대해 해당 위치에 대응하는 클래스로 예측했다고 판단한다.\n",
        "\n",
        "11. CNN 모델의 최종으로 예측한 클래스 값과 실제 레이블이 의미하느 클래스를 비교해 맞으면 correct에 더해 올발르게 예측한 횟수를 저장한다.\n",
        "\n",
        "12. 현재까지 계산된 test_loss 값을 test_loader 내에 있는 Mini-Batch 개수만큼 나눠 평균 Loss 값으로 계산한다.\n",
        "\n",
        "13. test_loader 데이터 중 얼마나 맞췄는 지를 계산해 정확도를 계산한다.\n",
        "\n",
        "14. 계산된 test_loss 값과 test_accuracy 값을 반환한다."
      ],
      "metadata": {
        "id": "kb7UI453KcDs"
      }
    },
    {
      "cell_type": "markdown",
      "source": [
        "### 모델학습"
      ],
      "metadata": {
        "id": "N6vhQlTnLU_p"
      }
    },
    {
      "cell_type": "code",
      "source": [
        "for Epoch in range(1, EPOCHS + 1):\n",
        "  train(model, train_loader, optimizer, log_interval = 200)\n",
        "  test_loss, test_accuracy = evaluate(model, test_loader)\n",
        "  print('\\n[EPOCH: {}], \\tTest Loss: {:.4f}, \\tTest Accuracy: {:.2f} % \\n'.format(Epoch, test_loss, test_accuracy))"
      ],
      "metadata": {
        "colab": {
          "base_uri": "https://localhost:8080/"
        },
        "id": "x1MqaJ5XJaOG",
        "outputId": "cce1a82f-83a8-4d3d-e0eb-c7ea0530076c"
      },
      "execution_count": 55,
      "outputs": [
        {
          "output_type": "stream",
          "name": "stderr",
          "text": [
            "<ipython-input-42-8cf661b2cbcf>:35: UserWarning: Implicit dimension choice for log_softmax has been deprecated. Change the call to include dim=X as an argument.\n",
            "  x = F.log_softmax(x)                 # 33\n"
          ]
        },
        {
          "output_type": "stream",
          "name": "stdout",
          "text": [
            "Train Epoch: 1 [0/50000(0%] \tTrain Loss: 2.294465\n",
            "Train Epoch: 1 [6400/50000(13%] \tTrain Loss: 1.867684\n",
            "Train Epoch: 1 [12800/50000(26%] \tTrain Loss: 1.861823\n",
            "Train Epoch: 1 [19200/50000(38%] \tTrain Loss: 1.607685\n",
            "Train Epoch: 1 [25600/50000(51%] \tTrain Loss: 1.771431\n",
            "Train Epoch: 1 [32000/50000(64%] \tTrain Loss: 1.574944\n",
            "Train Epoch: 1 [38400/50000(77%] \tTrain Loss: 1.528882\n",
            "Train Epoch: 1 [44800/50000(90%] \tTrain Loss: 1.449346\n",
            "\n",
            "[EPOCH: 1], \tTest Loss: 0.0454, \tTest Accuracy: 46.14 % \n",
            "\n",
            "Train Epoch: 2 [0/50000(0%] \tTrain Loss: 1.227963\n",
            "Train Epoch: 2 [6400/50000(13%] \tTrain Loss: 1.431386\n",
            "Train Epoch: 2 [12800/50000(26%] \tTrain Loss: 1.302807\n",
            "Train Epoch: 2 [19200/50000(38%] \tTrain Loss: 1.603256\n",
            "Train Epoch: 2 [25600/50000(51%] \tTrain Loss: 1.331959\n",
            "Train Epoch: 2 [32000/50000(64%] \tTrain Loss: 1.233114\n",
            "Train Epoch: 2 [38400/50000(77%] \tTrain Loss: 1.417821\n",
            "Train Epoch: 2 [44800/50000(90%] \tTrain Loss: 1.350842\n",
            "\n",
            "[EPOCH: 2], \tTest Loss: 0.0410, \tTest Accuracy: 52.89 % \n",
            "\n",
            "Train Epoch: 3 [0/50000(0%] \tTrain Loss: 1.201190\n",
            "Train Epoch: 3 [6400/50000(13%] \tTrain Loss: 1.490881\n",
            "Train Epoch: 3 [12800/50000(26%] \tTrain Loss: 1.370008\n",
            "Train Epoch: 3 [19200/50000(38%] \tTrain Loss: 1.305938\n",
            "Train Epoch: 3 [25600/50000(51%] \tTrain Loss: 1.470144\n",
            "Train Epoch: 3 [32000/50000(64%] \tTrain Loss: 0.955867\n",
            "Train Epoch: 3 [38400/50000(77%] \tTrain Loss: 1.271408\n",
            "Train Epoch: 3 [44800/50000(90%] \tTrain Loss: 1.202813\n",
            "\n",
            "[EPOCH: 3], \tTest Loss: 0.0370, \tTest Accuracy: 57.96 % \n",
            "\n",
            "Train Epoch: 4 [0/50000(0%] \tTrain Loss: 1.095245\n",
            "Train Epoch: 4 [6400/50000(13%] \tTrain Loss: 1.382268\n",
            "Train Epoch: 4 [12800/50000(26%] \tTrain Loss: 1.212762\n",
            "Train Epoch: 4 [19200/50000(38%] \tTrain Loss: 1.134141\n",
            "Train Epoch: 4 [25600/50000(51%] \tTrain Loss: 1.223406\n",
            "Train Epoch: 4 [32000/50000(64%] \tTrain Loss: 1.214099\n",
            "Train Epoch: 4 [38400/50000(77%] \tTrain Loss: 0.769287\n",
            "Train Epoch: 4 [44800/50000(90%] \tTrain Loss: 1.359192\n",
            "\n",
            "[EPOCH: 4], \tTest Loss: 0.0355, \tTest Accuracy: 58.95 % \n",
            "\n",
            "Train Epoch: 5 [0/50000(0%] \tTrain Loss: 0.904904\n",
            "Train Epoch: 5 [6400/50000(13%] \tTrain Loss: 1.045089\n",
            "Train Epoch: 5 [12800/50000(26%] \tTrain Loss: 0.909905\n",
            "Train Epoch: 5 [19200/50000(38%] \tTrain Loss: 0.875587\n",
            "Train Epoch: 5 [25600/50000(51%] \tTrain Loss: 1.048946\n",
            "Train Epoch: 5 [32000/50000(64%] \tTrain Loss: 0.941172\n",
            "Train Epoch: 5 [38400/50000(77%] \tTrain Loss: 0.783157\n",
            "Train Epoch: 5 [44800/50000(90%] \tTrain Loss: 0.773503\n",
            "\n",
            "[EPOCH: 5], \tTest Loss: 0.0344, \tTest Accuracy: 60.52 % \n",
            "\n",
            "Train Epoch: 6 [0/50000(0%] \tTrain Loss: 0.832089\n",
            "Train Epoch: 6 [6400/50000(13%] \tTrain Loss: 1.121937\n",
            "Train Epoch: 6 [12800/50000(26%] \tTrain Loss: 1.154492\n",
            "Train Epoch: 6 [19200/50000(38%] \tTrain Loss: 0.805982\n",
            "Train Epoch: 6 [25600/50000(51%] \tTrain Loss: 1.124128\n",
            "Train Epoch: 6 [32000/50000(64%] \tTrain Loss: 1.089385\n",
            "Train Epoch: 6 [38400/50000(77%] \tTrain Loss: 0.856708\n",
            "Train Epoch: 6 [44800/50000(90%] \tTrain Loss: 0.989950\n",
            "\n",
            "[EPOCH: 6], \tTest Loss: 0.0346, \tTest Accuracy: 60.32 % \n",
            "\n",
            "Train Epoch: 7 [0/50000(0%] \tTrain Loss: 1.251679\n",
            "Train Epoch: 7 [6400/50000(13%] \tTrain Loss: 0.988426\n",
            "Train Epoch: 7 [12800/50000(26%] \tTrain Loss: 1.064704\n",
            "Train Epoch: 7 [19200/50000(38%] \tTrain Loss: 1.310152\n",
            "Train Epoch: 7 [25600/50000(51%] \tTrain Loss: 1.351751\n",
            "Train Epoch: 7 [32000/50000(64%] \tTrain Loss: 1.027899\n",
            "Train Epoch: 7 [38400/50000(77%] \tTrain Loss: 1.150286\n",
            "Train Epoch: 7 [44800/50000(90%] \tTrain Loss: 1.180967\n",
            "\n",
            "[EPOCH: 7], \tTest Loss: 0.0330, \tTest Accuracy: 62.38 % \n",
            "\n",
            "Train Epoch: 8 [0/50000(0%] \tTrain Loss: 0.701751\n",
            "Train Epoch: 8 [6400/50000(13%] \tTrain Loss: 0.809044\n",
            "Train Epoch: 8 [12800/50000(26%] \tTrain Loss: 1.096366\n",
            "Train Epoch: 8 [19200/50000(38%] \tTrain Loss: 0.903386\n",
            "Train Epoch: 8 [25600/50000(51%] \tTrain Loss: 1.110793\n",
            "Train Epoch: 8 [32000/50000(64%] \tTrain Loss: 0.645884\n",
            "Train Epoch: 8 [38400/50000(77%] \tTrain Loss: 1.346545\n",
            "Train Epoch: 8 [44800/50000(90%] \tTrain Loss: 1.406101\n",
            "\n",
            "[EPOCH: 8], \tTest Loss: 0.0332, \tTest Accuracy: 62.30 % \n",
            "\n",
            "Train Epoch: 9 [0/50000(0%] \tTrain Loss: 0.874285\n",
            "Train Epoch: 9 [6400/50000(13%] \tTrain Loss: 0.928866\n",
            "Train Epoch: 9 [12800/50000(26%] \tTrain Loss: 0.863481\n",
            "Train Epoch: 9 [19200/50000(38%] \tTrain Loss: 0.771537\n",
            "Train Epoch: 9 [25600/50000(51%] \tTrain Loss: 1.054701\n",
            "Train Epoch: 9 [32000/50000(64%] \tTrain Loss: 0.734653\n",
            "Train Epoch: 9 [38400/50000(77%] \tTrain Loss: 0.814311\n",
            "Train Epoch: 9 [44800/50000(90%] \tTrain Loss: 0.845209\n",
            "\n",
            "[EPOCH: 9], \tTest Loss: 0.0329, \tTest Accuracy: 62.82 % \n",
            "\n",
            "Train Epoch: 10 [0/50000(0%] \tTrain Loss: 0.885038\n",
            "Train Epoch: 10 [6400/50000(13%] \tTrain Loss: 0.807659\n",
            "Train Epoch: 10 [12800/50000(26%] \tTrain Loss: 0.783406\n",
            "Train Epoch: 10 [19200/50000(38%] \tTrain Loss: 1.021391\n",
            "Train Epoch: 10 [25600/50000(51%] \tTrain Loss: 1.228820\n",
            "Train Epoch: 10 [32000/50000(64%] \tTrain Loss: 0.743695\n",
            "Train Epoch: 10 [38400/50000(77%] \tTrain Loss: 0.966812\n",
            "Train Epoch: 10 [44800/50000(90%] \tTrain Loss: 0.572593\n",
            "\n",
            "[EPOCH: 10], \tTest Loss: 0.0326, \tTest Accuracy: 63.55 % \n",
            "\n"
          ]
        }
      ]
    }
  ]
}