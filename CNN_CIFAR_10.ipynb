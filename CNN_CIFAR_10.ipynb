{
  "nbformat": 4,
  "nbformat_minor": 0,
  "metadata": {
    "colab": {
      "provenance": []
    },
    "kernelspec": {
      "name": "python3",
      "display_name": "Python 3"
    },
    "language_info": {
      "name": "python"
    }
  },
  "cells": [
    {
      "cell_type": "markdown",
      "source": [
        "# CNN : CIFAR-10"
      ],
      "metadata": {
        "id": "PUhKMUf21VT4"
      }
    },
    {
      "cell_type": "markdown",
      "source": [
        "### 환경 설정"
      ],
      "metadata": {
        "id": "w1H678vK1YLF"
      }
    },
    {
      "cell_type": "code",
      "execution_count": 1,
      "metadata": {
        "id": "e5FuCYebz9Ly"
      },
      "outputs": [],
      "source": [
        "import numpy as np\n",
        "import matplotlib.pyplot as plt\n",
        "\n",
        "import torch\n",
        "import torch.nn as nn\n",
        "import torch.nn.functional as F\n",
        "from torchvision import transforms, datasets"
      ]
    },
    {
      "cell_type": "code",
      "source": [
        "# 딥러닝 모델 설계할 때 활용하는 장비 확인 \n",
        "if torch.cuda.is_available():\n",
        "  DEVICE = torch.device('cuda')\n",
        "else :\n",
        "  DEVICE = torch.device('cpu')\n",
        "\n",
        "print(DEVICE)"
      ],
      "metadata": {
        "colab": {
          "base_uri": "https://localhost:8080/"
        },
        "id": "bt7RJSLb0kGY",
        "outputId": "5b50c640-6a0d-4f10-9836-04465e5bbcbb"
      },
      "execution_count": 2,
      "outputs": [
        {
          "output_type": "stream",
          "name": "stdout",
          "text": [
            "cpu\n"
          ]
        }
      ]
    },
    {
      "cell_type": "code",
      "source": [
        "BATCH_SIZE = 32\n",
        "EPOCHS = 10"
      ],
      "metadata": {
        "id": "EjQf6ZCW1aqG"
      },
      "execution_count": 3,
      "outputs": []
    },
    {
      "cell_type": "markdown",
      "source": [
        "### 데이터"
      ],
      "metadata": {
        "id": "iAbakY9j1iAV"
      }
    },
    {
      "cell_type": "code",
      "source": [
        "train_dataset = datasets.CIFAR10(root = '/content/data/CIFAR-10',\n",
        "                                  train = True,\n",
        "                                  download = True,\n",
        "                                  transform = transforms.ToTensor())\n",
        "test_dataset = datasets.CIFAR10(root = '/content/data/CIFAR-10',\n",
        "                                  train = False,\n",
        "                                  transform = transforms.ToTensor())\n",
        "train_loader = torch.utils.data.DataLoader(dataset = train_dataset,\n",
        "                                           batch_size = BATCH_SIZE,\n",
        "                                           shuffle = True)\n",
        "test_loader = torch.utils.data.DataLoader(dataset = test_dataset,\n",
        "                                           batch_size = BATCH_SIZE,\n",
        "                                           shuffle = False)"
      ],
      "metadata": {
        "colab": {
          "base_uri": "https://localhost:8080/"
        },
        "id": "njrS5KHc1hLY",
        "outputId": "edf8fad8-76d8-4037-a9fb-1b8934d35817"
      },
      "execution_count": 4,
      "outputs": [
        {
          "output_type": "stream",
          "name": "stdout",
          "text": [
            "Files already downloaded and verified\n"
          ]
        }
      ]
    },
    {
      "cell_type": "code",
      "source": [
        "# 데이터 확인하기\n",
        "for X_train, y_train in train_loader:\n",
        "  print(X_train.size(), X_train.type())\n",
        "  print(y_train.size(), y_train.type())\n",
        "  break"
      ],
      "metadata": {
        "colab": {
          "base_uri": "https://localhost:8080/"
        },
        "id": "ELoVzgKP29eX",
        "outputId": "14ef6790-ac8f-4ac5-d9a7-595f8ed7958a"
      },
      "execution_count": 5,
      "outputs": [
        {
          "output_type": "stream",
          "name": "stdout",
          "text": [
            "torch.Size([32, 3, 32, 32]) torch.FloatTensor\n",
            "torch.Size([32]) torch.LongTensor\n"
          ]
        }
      ]
    },
    {
      "cell_type": "code",
      "source": [
        "pltsize = 1\n",
        "plt.figure(figsize=(pltsize * 10, pltsize))\n",
        "for i in range(10):\n",
        "  plt.subplot(1, 10, i + 1)\n",
        "  plt.axis('off')\n",
        "  plt.imshow(np.transpose(X_train[i], (1,2,0)))\n",
        "  plt.title('Class: ' + str(y_train[i].item()))"
      ],
      "metadata": {
        "colab": {
          "base_uri": "https://localhost:8080/",
          "height": 94
        },
        "id": "q0cV5Afm3euF",
        "outputId": "f379da78-c276-4537-b1f1-2f66ca8d9658"
      },
      "execution_count": 6,
      "outputs": [
        {
          "output_type": "display_data",
          "data": {
            "text/plain": [
              "<Figure size 720x72 with 10 Axes>"
            ],
            "image/png": "[encoded data removed]"
          },
          "metadata": {
            "needs_background": "light"
          }
        }
      ]
    },
    {
      "cell_type": "markdown",
      "source": [
        "### 모델 설계"
      ],
      "metadata": {
        "id": "hcW7VRcz5OBV"
      }
    },
    {
      "cell_type": "code",
      "source": [
        "class CNN(nn.Module) :                  # 1\n",
        "  def __init__(self) :                  # 2\n",
        "    super(CNN, self).__init__()         # 3 \n",
        "    self.conv1 = nn.Conv2d(             # 4\n",
        "        in_channels = 3,                # 5\n",
        "        out_channels = 8,               # 6\n",
        "        kernel_size = 3,                # 7\n",
        "        padding = 1)                    # 8\n",
        "    self.conv2 = nn.Conv2d(             # 9\n",
        "        in_channels = 8,               # 10\n",
        "        out_channels = 16,              # 11\n",
        "        kernel_size = 3,                # 12\n",
        "        padding = 1)                    # 13\n",
        "    self.pool = nn.MaxPool2d(           # 14\n",
        "        kernel_size = 2,                # 15\n",
        "        stride = 2)                     # 16\n",
        "    self.fc1 = nn.Linear(8 * 8 * 16, 64)# 17\n",
        "    self.fc2 = nn.Linear(64, 32)        # 18   \n",
        "    self.fc3 = nn.Linear(32, 10)        # 19\n",
        "   \n",
        "  def forward(self, x):                 # 20\n",
        "    x = self.conv1(x)                   # 21\n",
        "    x = F.relu(x)                       # 22\n",
        "    x = self.pool(x)                    # 23\n",
        "    x = self.conv2(x)                   # 24\n",
        "    x = F.relu(x)                       # 25\n",
        "    x = self.pool(x)                    # 26\n",
        "\n",
        "    x = x.view(-1, 8 * 8 * 16)          # 27\n",
        "    x = self.fc1(x)                     # 28\n",
        "    x = F.relu(x)                       # 29\n",
        "    x = self.fc2(x)                     # 30\n",
        "    x = F.relu(x)                       # 31\n",
        "    x = self.fc3(x)                     # 32\n",
        "    x = F.log_softmax(x)                 # 33\n",
        "    return x                            # 34"
      ],
      "metadata": {
        "id": "7tum4Ppb5O-P"
      },
      "execution_count": 7,
      "outputs": []
    },
    {
      "cell_type": "markdown",
      "source": [
        "1. nn.Module 클래스를 상속 받았을 때 nn.Module 클래스가 이용할 수 있는 함수를 그대로 이용할 수 있기 때문에 새로운 딥러닝 모델을 설계할 때 자주 이용된다.\n",
        "\n",
        "2. CNN 클래스의 인스턴스를 생성했을 때 지니는 성질을 정의해주는 메서드이다.\n",
        "\n",
        "3. nn.Module 내에 있는 메서드를 상속받아 이용한다.\n",
        "\n",
        "4. 2차원의 이미지 데이터를 nn.Conv2d 메서드를 이용해 Convolution 연산을 하는 Filter를 정의한다.\n",
        "\n",
        "5. 이미지에 직접 Convolution 연산을 진행하는 Filter의 크기는 상관없지만, 채널 수를 이미지의 채널 수와 동일하게 맞춰야 한다. 동일한 위치에 있으며 앞뒤로 존재하는 red, green, blue에 픽셀에 대해 동시에 Convolution 연산을 진행하기 위해서다. 따라서 이미지의 채널 수와 동일하게 채널 수를 '3'으로 설정했다.\n",
        "\n",
        "6. Convolution 연산을 진행하는 Filter 개수를 설정한다. 여기서 설정해주는 Filter 개수만큼 Output의 depth가 정해진다. Filter 개수만큼 앞뒤로 쌓아 Feature Map을 형성하기 때문이다. 여기서는 '8개'로 설정했으므로 해당 Convolution 연산 결과는 depth가 '8인' Feature Map이 생성된다.\n",
        "\n",
        "7. Filter의 크기를 설정해주는 부분이다. 스칼라 값으로 설정하려면 해당 스칼라 값의 가로 * 세로 크기인 Filter를 이용해야 한다. 즉, 여기서는 3 \\* 3의 Filter 크기를 이용하게 된다. 3 x 3의 Filter가 이미지 위를 돌아다니면서 겹치는 영역에 대해 9개의 픽셀 값과 Filter 내에 있는 9개의 파라미터 값을 Convolution 연산으로 진행한다.\n",
        "\n",
        "8. 5,6,7을 통해 세부 속성이 설정된 Filter가 이미지 위를 돌아다닐 때 이미지의 구석 부분은 중앙 부분에 비해 상대적으로 덜 연산된다. Filter가 돌아다니면서 겹치는 영역이 구석보다 중앙 부분이 당연히 자주 겹친다. 이를 방지하기 위해 이미지의 가장자리에 0을 채워 이미지 구석 부분과 중앙 부분의 Convolution 연산되는 횟수를 동일하게 맞춰주기 위해 Zero Padding을 설정해준다.\n",
        "\n",
        "9. 14- Convolution을 통해 Feature Map이 생성됐을 때, Feature Map을 전부 이용하는 것이 아니라 부분적으로 이용한다. Convolution을 통해 다양한 수치가 생성되기 때문이다. nn.MaxPool2d는 2차원의 Feature Map 내에서 지정한 크기 내 가장 큰 Feature Map 값만 이용하겠다는 것을 의미이다. "
      ],
      "metadata": {
        "id": "1TiyNUy68BWt"
      }
    },
    {
      "cell_type": "markdown",
      "source": [
        "### 모델 확인"
      ],
      "metadata": {
        "id": "NSgv3zsPJ-RS"
      }
    },
    {
      "cell_type": "code",
      "source": [
        "# Optimizer, Objective Function 설정하기\n",
        "model = CNN().to(DEVICE)  # 1\n",
        "optimizer = torch.optim.Adam(model.parameters(), lr = 0.001)\n",
        "criterion = nn.CrossEntropyLoss()\n",
        "print(model)"
      ],
      "metadata": {
        "colab": {
          "base_uri": "https://localhost:8080/"
        },
        "id": "C0RFIisHBTaU",
        "outputId": "481fcc6f-2f52-4543-db11-3bbf072ea70b"
      },
      "execution_count": 8,
      "outputs": [
        {
          "output_type": "stream",
          "name": "stdout",
          "text": [
            "CNN(\n",
            "  (conv1): Conv2d(3, 8, kernel_size=(3, 3), stride=(1, 1), padding=(1, 1))\n",
            "  (conv2): Conv2d(8, 16, kernel_size=(3, 3), stride=(1, 1), padding=(1, 1))\n",
            "  (pool): MaxPool2d(kernel_size=2, stride=2, padding=0, dilation=1, ceil_mode=False)\n",
            "  (fc1): Linear(in_features=1024, out_features=64, bias=True)\n",
            "  (fc2): Linear(in_features=64, out_features=32, bias=True)\n",
            "  (fc3): Linear(in_features=32, out_features=10, bias=True)\n",
            ")\n"
          ]
        }
      ]
    },
    {
      "cell_type": "markdown",
      "source": [
        "1. CNN 모델을 기존에 선정한 'DEVICE'에 할당한다. 'DEVICE' 장비를 이용해 CNN 모델을 완성하기 위한 것이다."
      ],
      "metadata": {
        "id": "o4CBBgmIG0dY"
      }
    },
    {
      "cell_type": "markdown",
      "source": [
        "#### 모델 요약 보기"
      ],
      "metadata": {
        "id": "y6SIhsyjFbeN"
      }
    },
    {
      "cell_type": "code",
      "source": [
        "import torchsummary\n",
        "torchsummary.summary(model, (3, 32, 32))"
      ],
      "metadata": {
        "colab": {
          "base_uri": "https://localhost:8080/"
        },
        "id": "4J8_Q3JHCJ-o",
        "outputId": "b9aaf0a5-24db-43a6-a45b-3481c9a80784"
      },
      "execution_count": 9,
      "outputs": [
        {
          "output_type": "stream",
          "name": "stdout",
          "text": [
            "----------------------------------------------------------------\n",
            "        Layer (type)               Output Shape         Param #\n",
            "================================================================\n",
            "            Conv2d-1            [-1, 8, 32, 32]             224\n",
            "         MaxPool2d-2            [-1, 8, 16, 16]               0\n",
            "            Conv2d-3           [-1, 16, 16, 16]           1,168\n",
            "         MaxPool2d-4             [-1, 16, 8, 8]               0\n",
            "            Linear-5                   [-1, 64]          65,600\n",
            "            Linear-6                   [-1, 32]           2,080\n",
            "            Linear-7                   [-1, 10]             330\n",
            "================================================================\n",
            "Total params: 69,402\n",
            "Trainable params: 69,402\n",
            "Non-trainable params: 0\n",
            "----------------------------------------------------------------\n",
            "Input size (MB): 0.01\n",
            "Forward/backward pass size (MB): 0.12\n",
            "Params size (MB): 0.26\n",
            "Estimated Total Size (MB): 0.39\n",
            "----------------------------------------------------------------\n"
          ]
        },
        {
          "output_type": "stream",
          "name": "stderr",
          "text": [
            "<ipython-input-7-8cf661b2cbcf>:35: UserWarning: Implicit dimension choice for log_softmax has been deprecated. Change the call to include dim=X as an argument.\n",
            "  x = F.log_softmax(x)                 # 33\n"
          ]
        }
      ]
    },
    {
      "cell_type": "code",
      "source": [
        "# MLP 모델 학습을 진행하며 학습 데이터에 대한 모델 성능을 확인하는 함수 정의\n",
        "def train(model, train_loader, optimizer, log_interval):                    \n",
        "  model.train()                                                   # 1\n",
        "  for batch_idx, (image, label) in enumerate (train_loader):      # 2\n",
        "    image = image.to(DEVICE)                                      # 3\n",
        "    label = label.to(DEVICE)                                      # 4\n",
        "    optimizer.zero_grad()                                         # 5\n",
        "    output = model(image)                                         # 6\n",
        "    loss = criterion(output, label)                               # 7\n",
        "    loss.backward()                                               # 8\n",
        "    optimizer.step()                                              # 9\n",
        "\n",
        "    if batch_idx % log_interval == 0:\n",
        "      print('Train Epoch: {} [{}/{}({:.0f}%] \\tTrain Loss: {:.6f}'.format(Epoch, batch_idx * len(image),\n",
        "                                                                          len(train_loader.dataset), 100. * batch_idx / len(train_loader),\n",
        "                                                                          loss.item()))"
      ],
      "metadata": {
        "id": "kR_j6SM2f2xq"
      },
      "execution_count": 11,
      "outputs": []
    },
    {
      "cell_type": "markdown",
      "source": [
        "1. 기존에 정의한 CNN 모델을 학습 상태로 지정한다.\n",
        "\n",
        "2. 기존에 정의한 train_loader에는 학습에 이용되는 이미지 데이터와 레이블 데이터가 Mini-Batch 단위로 묶여 저장돼 있다. 해당 train_loader 내에 Mini-Batch 단위로 저장된 데이터를 순서대로 이용해 CNN 모형을 학습시키겠다.\n",
        "\n",
        "3. Mini-Batch 내에 있는 이미지 데이터를 이용해 CNN 모델을 학습하기 위해 기존에 정의한 장비에 할당한다.\n",
        "\n",
        "4. Mini-Batch 내에 있는 이미지 데이터와 매칭된 레이블 데이터도 기존에 정의한 장비에 할당한다.\n",
        "\n",
        "5. 기존에 정의한 장비에 이미지 데이터와 레이블 데이터를 할당했을 때, 과거에 이용한 Mini-Batch 내에 있는 이미지 데이터와 레이블 데이터를 바탕으로 계산된 Loss의 Gradient 값이 Optimizer에 할당돼 있으므로 Optimizer의 Gradient를 초기화한다.\n",
        "\n",
        "6. 장비에 할당한 이미지 데이터를 CNN 모델의 Input으로 이용해 Output을 계산한다.\n",
        "\n",
        "7. 계산된 Output과 장비에 할당된 레이블 데이터를 기존에 정의한 Cross Entrophy를 이용해 Loss 값을 계산한다.\n",
        "\n",
        "8. Loss 값을 계산한 결과를 바탕으로 Back Propagation을 통해 계산된 Gradient 값을 각 파라미터에 할당한다.\n",
        "\n",
        "9. 각 파라미터별로 할당된 Gradient 값을 이용해 파라미터 값을 업데이트한다."
      ],
      "metadata": {
        "id": "Qk95wlHoKDqC"
      }
    },
    {
      "cell_type": "code",
      "source": [
        "# 학습되는 과정 속에서 검증 데이터에 대한 모델 성능을 확인하는 함수 정의\n",
        "def evaluate(model, test_loader):\n",
        "  model.eval()                                                         # 1\n",
        "  test_loss = 0                                                        # 2\n",
        "  correct = 0                                                          # 3\n",
        "  with torch.no_grad():                                                # 4\n",
        "    for image, label in test_loader:                                   # 5 \n",
        "      image = image.to(DEVICE)                                         # 6\n",
        "      label = label.to(DEVICE)                                         # 7 \n",
        "      output = model(image)                                            # 8\n",
        "      test_loss += criterion(output, label).item()                     # 9\n",
        "      prediction = output.max(1, keepdim = True)[1]                    # 10\n",
        "      correct += prediction.eq(label.view_as(prediction)).sum().item() # 11\n",
        "  test_loss /= len(test_loader.dataset)                                # 12\n",
        "  test_accuracy = 100. * correct / len(test_loader.dataset)            # 13    \n",
        "  return test_loss, test_accuracy                                      # 14"
      ],
      "metadata": {
        "id": "ztUQ2Xi7Ic5I"
      },
      "execution_count": 12,
      "outputs": []
    },
    {
      "cell_type": "markdown",
      "source": [
        "CNN 모델 학습 과정 또는 학습이 완료된 상태에서 CNN 모델의 성능을 평가하기 위해 evaluate 함수를 정의한다."
      ],
      "metadata": {
        "id": "7P-Mav33KlG_"
      }
    },
    {
      "cell_type": "markdown",
      "source": [
        "1. 학습 과정 속 또는 학습이 완료된 CNN 모델을 학습 상태가 아닌, 평가 상태로 지정한다.\n",
        "\n",
        "2. 기존에 정의한 test_loader 내에 있는 데이터를 이용해 Loss 값을 계산하기 위해 test_loss를 0으로 임시 설정한다.\n",
        "\n",
        "3. 학습 과정 속 또는 학습이 완료된 CNN 모델이 올바른 Class로 분류한 경우를 세기 위해 correct = 0으로 임시 설정한다.\n",
        "\n",
        "4. CNN 모델을 평가하는 단계에서는 Gradient를 통해 파라미터 값들이 업데이트되는 현상을 방지하기 위해 torch.no_grad() 메서드를 이용해 Gradient의 흐름을 억제한다.\n",
        "\n",
        "5. 기존에 정의한 test_loader 내에 있는 데이터 역시 train_loader와 동일하게 Mini-Batch 단위로 저장돼 있다. Mini_Batch 내에 있는 이미지 데이터와 레이블 데이터에 반복문을 이용해 차례대로 접근한다.\n",
        "\n",
        "6. Mini-Batch 내에 있는 이미지 데이터를 이용해 CNN 모델을 검증하기 위해 기존에 정의한 장비에 할당한다.\n",
        "\n",
        "7. Mini-Batch 내에 있는 이미지 데이터와 매칭된 레이블 데이터도 기존에 정의한 장비에 할당한다.\n",
        "\n",
        "8. 장비에 할당한 이미지 데이터를 CNN 모델의 Input으로 이용해 Output을 계산한다.\n",
        "\n",
        "9. 계산된 Output과 장비에 할당된 레이블 데이터를 기존에 정의한 CrossEntropy를 이용해 Loss 값을 계산한 결과값을 test_loss에 더해 업데이트한다.\n",
        "\n",
        "10. CNN 모델의 Output 값은 크기가 '10'인 벡터 값이다. 계산된 벡터 값 내의 가장 큰 값인 위치에 대해 해당 위치에 대응하는 클래스로 예측했다고 판단한다.\n",
        "\n",
        "11. CNN 모델의 최종으로 예측한 클래스 값과 실제 레이블이 의미하느 클래스를 비교해 맞으면 correct에 더해 올발르게 예측한 횟수를 저장한다.\n",
        "\n",
        "12. 현재까지 계산된 test_loss 값을 test_loader 내에 있는 Mini-Batch 개수만큼 나눠 평균 Loss 값으로 계산한다.\n",
        "\n",
        "13. test_loader 데이터 중 얼마나 맞췄는 지를 계산해 정확도를 계산한다.\n",
        "\n",
        "14. 계산된 test_loss 값과 test_accuracy 값을 반환한다."
      ],
      "metadata": {
        "id": "kb7UI453KcDs"
      }
    },
    {
      "cell_type": "markdown",
      "source": [
        "### 모델학습"
      ],
      "metadata": {
        "id": "N6vhQlTnLU_p"
      }
    },
    {
      "cell_type": "code",
      "source": [
        "for Epoch in range(1, EPOCHS + 1):\n",
        "  train(model, train_loader, optimizer, log_interval = 200)\n",
        "  test_loss, test_accuracy = evaluate(model, test_loader)\n",
        "  print('\\n[EPOCH: {}], \\tTest Loss: {:.4f}, \\tTest Accuracy: {:.2f} % \\n'.format(Epoch, test_loss, test_accuracy))"
      ],
      "metadata": {
        "colab": {
          "base_uri": "https://localhost:8080/"
        },
        "id": "x1MqaJ5XJaOG",
        "outputId": "78985178-3808-4aae-b070-a2cc70cbdec0"
      },
      "execution_count": 13,
      "outputs": [
        {
          "output_type": "stream",
          "name": "stderr",
          "text": [
            "<ipython-input-7-8cf661b2cbcf>:35: UserWarning: Implicit dimension choice for log_softmax has been deprecated. Change the call to include dim=X as an argument.\n",
            "  x = F.log_softmax(x)                 # 33\n"
          ]
        },
        {
          "output_type": "stream",
          "name": "stdout",
          "text": [
            "Train Epoch: 1 [0/50000(0%] \tTrain Loss: 2.302835\n",
            "Train Epoch: 1 [6400/50000(13%] \tTrain Loss: 1.933167\n",
            "Train Epoch: 1 [12800/50000(26%] \tTrain Loss: 1.939707\n",
            "Train Epoch: 1 [19200/50000(38%] \tTrain Loss: 1.682745\n",
            "Train Epoch: 1 [25600/50000(51%] \tTrain Loss: 1.688642\n",
            "Train Epoch: 1 [32000/50000(64%] \tTrain Loss: 1.626541\n",
            "Train Epoch: 1 [38400/50000(77%] \tTrain Loss: 1.665012\n",
            "Train Epoch: 1 [44800/50000(90%] \tTrain Loss: 1.610892\n",
            "\n",
            "[EPOCH: 1], \tTest Loss: 0.0456, \tTest Accuracy: 46.74 % \n",
            "\n",
            "Train Epoch: 2 [0/50000(0%] \tTrain Loss: 1.165816\n",
            "Train Epoch: 2 [6400/50000(13%] \tTrain Loss: 1.226934\n",
            "Train Epoch: 2 [12800/50000(26%] \tTrain Loss: 1.789724\n",
            "Train Epoch: 2 [19200/50000(38%] \tTrain Loss: 1.430700\n",
            "Train Epoch: 2 [25600/50000(51%] \tTrain Loss: 1.383470\n",
            "Train Epoch: 2 [32000/50000(64%] \tTrain Loss: 1.199703\n",
            "Train Epoch: 2 [38400/50000(77%] \tTrain Loss: 1.344800\n",
            "Train Epoch: 2 [44800/50000(90%] \tTrain Loss: 1.564903\n",
            "\n",
            "[EPOCH: 2], \tTest Loss: 0.0410, \tTest Accuracy: 52.39 % \n",
            "\n",
            "Train Epoch: 3 [0/50000(0%] \tTrain Loss: 1.644751\n",
            "Train Epoch: 3 [6400/50000(13%] \tTrain Loss: 1.323208\n",
            "Train Epoch: 3 [12800/50000(26%] \tTrain Loss: 1.112944\n",
            "Train Epoch: 3 [19200/50000(38%] \tTrain Loss: 1.300512\n",
            "Train Epoch: 3 [25600/50000(51%] \tTrain Loss: 1.060218\n",
            "Train Epoch: 3 [32000/50000(64%] \tTrain Loss: 1.047989\n",
            "Train Epoch: 3 [38400/50000(77%] \tTrain Loss: 1.182707\n",
            "Train Epoch: 3 [44800/50000(90%] \tTrain Loss: 1.517003\n",
            "\n",
            "[EPOCH: 3], \tTest Loss: 0.0397, \tTest Accuracy: 54.15 % \n",
            "\n",
            "Train Epoch: 4 [0/50000(0%] \tTrain Loss: 1.062325\n",
            "Train Epoch: 4 [6400/50000(13%] \tTrain Loss: 1.519269\n",
            "Train Epoch: 4 [12800/50000(26%] \tTrain Loss: 0.962934\n",
            "Train Epoch: 4 [19200/50000(38%] \tTrain Loss: 1.095092\n",
            "Train Epoch: 4 [25600/50000(51%] \tTrain Loss: 1.250046\n",
            "Train Epoch: 4 [32000/50000(64%] \tTrain Loss: 1.043877\n",
            "Train Epoch: 4 [38400/50000(77%] \tTrain Loss: 1.057374\n",
            "Train Epoch: 4 [44800/50000(90%] \tTrain Loss: 1.008310\n",
            "\n",
            "[EPOCH: 4], \tTest Loss: 0.0367, \tTest Accuracy: 58.30 % \n",
            "\n",
            "Train Epoch: 5 [0/50000(0%] \tTrain Loss: 1.102072\n",
            "Train Epoch: 5 [6400/50000(13%] \tTrain Loss: 1.036025\n",
            "Train Epoch: 5 [12800/50000(26%] \tTrain Loss: 0.874076\n",
            "Train Epoch: 5 [19200/50000(38%] \tTrain Loss: 1.123720\n",
            "Train Epoch: 5 [25600/50000(51%] \tTrain Loss: 1.162167\n",
            "Train Epoch: 5 [32000/50000(64%] \tTrain Loss: 1.367663\n",
            "Train Epoch: 5 [38400/50000(77%] \tTrain Loss: 1.300960\n",
            "Train Epoch: 5 [44800/50000(90%] \tTrain Loss: 1.331193\n",
            "\n",
            "[EPOCH: 5], \tTest Loss: 0.0353, \tTest Accuracy: 59.90 % \n",
            "\n",
            "Train Epoch: 6 [0/50000(0%] \tTrain Loss: 1.406064\n",
            "Train Epoch: 6 [6400/50000(13%] \tTrain Loss: 1.021984\n",
            "Train Epoch: 6 [12800/50000(26%] \tTrain Loss: 1.190807\n",
            "Train Epoch: 6 [19200/50000(38%] \tTrain Loss: 0.938249\n",
            "Train Epoch: 6 [25600/50000(51%] \tTrain Loss: 1.220645\n",
            "Train Epoch: 6 [32000/50000(64%] \tTrain Loss: 1.008285\n",
            "Train Epoch: 6 [38400/50000(77%] \tTrain Loss: 0.713310\n",
            "Train Epoch: 6 [44800/50000(90%] \tTrain Loss: 1.086183\n",
            "\n",
            "[EPOCH: 6], \tTest Loss: 0.0351, \tTest Accuracy: 59.86 % \n",
            "\n",
            "Train Epoch: 7 [0/50000(0%] \tTrain Loss: 1.176953\n",
            "Train Epoch: 7 [6400/50000(13%] \tTrain Loss: 0.930127\n",
            "Train Epoch: 7 [12800/50000(26%] \tTrain Loss: 0.891192\n",
            "Train Epoch: 7 [19200/50000(38%] \tTrain Loss: 1.019504\n",
            "Train Epoch: 7 [25600/50000(51%] \tTrain Loss: 1.256714\n",
            "Train Epoch: 7 [32000/50000(64%] \tTrain Loss: 1.316609\n",
            "Train Epoch: 7 [38400/50000(77%] \tTrain Loss: 1.535057\n",
            "Train Epoch: 7 [44800/50000(90%] \tTrain Loss: 1.015220\n",
            "\n",
            "[EPOCH: 7], \tTest Loss: 0.0344, \tTest Accuracy: 61.05 % \n",
            "\n",
            "Train Epoch: 8 [0/50000(0%] \tTrain Loss: 0.670371\n",
            "Train Epoch: 8 [6400/50000(13%] \tTrain Loss: 0.629028\n",
            "Train Epoch: 8 [12800/50000(26%] \tTrain Loss: 0.989112\n",
            "Train Epoch: 8 [19200/50000(38%] \tTrain Loss: 1.241891\n",
            "Train Epoch: 8 [25600/50000(51%] \tTrain Loss: 1.112621\n",
            "Train Epoch: 8 [32000/50000(64%] \tTrain Loss: 1.463263\n",
            "Train Epoch: 8 [38400/50000(77%] \tTrain Loss: 0.893036\n",
            "Train Epoch: 8 [44800/50000(90%] \tTrain Loss: 0.836858\n",
            "\n",
            "[EPOCH: 8], \tTest Loss: 0.0328, \tTest Accuracy: 62.47 % \n",
            "\n",
            "Train Epoch: 9 [0/50000(0%] \tTrain Loss: 1.001035\n",
            "Train Epoch: 9 [6400/50000(13%] \tTrain Loss: 0.831094\n",
            "Train Epoch: 9 [12800/50000(26%] \tTrain Loss: 1.161001\n",
            "Train Epoch: 9 [19200/50000(38%] \tTrain Loss: 0.821022\n",
            "Train Epoch: 9 [25600/50000(51%] \tTrain Loss: 0.811617\n",
            "Train Epoch: 9 [32000/50000(64%] \tTrain Loss: 1.258432\n",
            "Train Epoch: 9 [38400/50000(77%] \tTrain Loss: 0.684788\n",
            "Train Epoch: 9 [44800/50000(90%] \tTrain Loss: 1.527039\n",
            "\n",
            "[EPOCH: 9], \tTest Loss: 0.0328, \tTest Accuracy: 63.24 % \n",
            "\n",
            "Train Epoch: 10 [0/50000(0%] \tTrain Loss: 1.316318\n",
            "Train Epoch: 10 [6400/50000(13%] \tTrain Loss: 1.072544\n",
            "Train Epoch: 10 [12800/50000(26%] \tTrain Loss: 1.018803\n",
            "Train Epoch: 10 [19200/50000(38%] \tTrain Loss: 1.093694\n",
            "Train Epoch: 10 [25600/50000(51%] \tTrain Loss: 1.200643\n",
            "Train Epoch: 10 [32000/50000(64%] \tTrain Loss: 0.758259\n",
            "Train Epoch: 10 [38400/50000(77%] \tTrain Loss: 0.804648\n",
            "Train Epoch: 10 [44800/50000(90%] \tTrain Loss: 1.144430\n",
            "\n",
            "[EPOCH: 10], \tTest Loss: 0.0326, \tTest Accuracy: 63.41 % \n",
            "\n"
          ]
        }
      ]
    }
  ]
}